{
 "cells": [
  {
   "cell_type": "code",
   "execution_count": 1,
   "metadata": {},
   "outputs": [
    {
     "name": "stdout",
     "output_type": "stream",
     "text": [
      "PyTerrier 0.7.1 has loaded Terrier 5.7 (built by craigm on 2022-11-10 18:30)\n"
     ]
    },
    {
     "name": "stderr",
     "output_type": "stream",
     "text": [
      "No etc/terrier.properties, using terrier.default.properties for bootstrap configuration.\n"
     ]
    }
   ],
   "source": [
    "import re\n",
    "import os\n",
    "import pandas as pd\n",
    "from snowballstemmer import stemmer\n",
    "import arabicstopwords.arabicstopwords as ar_stp\n",
    "import pyterrier as pt\n",
    "# pyterrier is a Python API for Terrier. Link: https://github.com/terrier-org/pyterrier \n",
    "# Terrier IR Platform is a modular open source software for the rapid development of large-scale information retrieval applications.\n",
    "if not pt.started():\n",
    "    pt.init(helper_version=\"0.0.6\")"
   ]
  },
  {
   "cell_type": "markdown",
   "metadata": {},
   "source": []
  },
  {
   "cell_type": "code",
   "execution_count": 2,
   "metadata": {},
   "outputs": [],
   "source": [
    "data_path = \"path_to_your_data_directory\""
   ]
  },
  {
   "cell_type": "code",
   "execution_count": 3,
   "metadata": {},
   "outputs": [],
   "source": [
    "# define some global constants\n",
    "TEXT = \"text\"\n",
    "QUERY = \"query\"\n",
    "LABEL = \"label\"\n",
    "RANK = \"rank\"\n",
    "TAG = \"tag\"\n",
    "SCORE = \"score\"\n",
    "QID = \"qid\"\n",
    "DOC_NO = \"docno\"\n",
    "DOCID = \"docid\"\n"
   ]
  },
  {
   "attachments": {},
   "cell_type": "markdown",
   "metadata": {},
   "source": [
    "## Load the index "
   ]
  },
  {
   "cell_type": "code",
   "execution_count": 4,
   "metadata": {},
   "outputs": [],
   "source": [
    "def load_index(index_path):\n",
    "    try:\n",
    "        index = pt.IndexFactory.of(index_path)\n",
    "        print(\"Index was loaded successfully from this path: \", index_path)\n",
    "        return index\n",
    "    except Exception as e:\n",
    "        print('Cannot load the index, check exception details {}'.format(e))\n",
    "        return []\n",
    "\n",
    "\n",
    "# read file based on its extension (tsv or xlsx)\n",
    "def read_file(input_file, sep=\"\\t\", names = \"\"):\n",
    "    if input_file.endswith(\".xlsx\"):\n",
    "        df = pd.read_excel(input_file)\n",
    "    else:\n",
    "        if names != \"\":\n",
    "            df = pd.read_csv(input_file, sep=sep, names=names,encoding=\"utf-8\")\n",
    "        else:\n",
    "            df = pd.read_csv(input_file, sep=sep,encoding=\"utf-8\")\n",
    "    return df"
   ]
  },
  {
   "cell_type": "code",
   "execution_count": 5,
   "metadata": {},
   "outputs": [
    {
     "name": "stdout",
     "output_type": "stream",
     "text": [
      "Index was loaded successfully from this path:  /data/watheq/Quran_QA/quran-qa-2023/Task-A/data/QPC_Index/data.properties\n"
     ]
    }
   ],
   "source": [
    "index_path = os.path.join(data_path ,\"QPC_Index/data.properties\")\n",
    "\n",
    "index = load_index(index_path=index_path)"
   ]
  },
  {
   "attachments": {},
   "cell_type": "markdown",
   "metadata": {},
   "source": [
    "## Search in the index\n",
    "\n",
    "Before searching in the index, we need to prepare some functions to clean the input text."
   ]
  },
  {
   "attachments": {},
   "cell_type": "markdown",
   "metadata": {},
   "source": [
    "### Cleaning \n",
    "Clean text from urls, handles, special characters, tabs, line jumps, extra white space, and puntuations."
   ]
  },
  {
   "cell_type": "code",
   "execution_count": 6,
   "metadata": {},
   "outputs": [],
   "source": [
    "\n",
    "\n",
    "# Clean text from urls, handles, special characters, tabs, line jumps, and extra white space.\n",
    "def clean(text):\n",
    "    text = re.sub(r\"http\\S+\", \" \", text)  # remove urls\n",
    "    text = re.sub(r\"@[\\w]*\", \" \", text)  # remove handles\n",
    "    text = re.sub(r\"[\\.\\,\\#_\\|\\:\\?\\?\\/\\=]\", \" \", text) # remove special characters\n",
    "    text = re.sub(r\"\\t\", \" \", text)  # remove tabs\n",
    "    text = re.sub(r\"\\n\", \" \", text)  # remove line jump\n",
    "    text = re.sub(r\"\\s+\", \" \", text)  # remove extra white space\n",
    "    text = re.sub(r'[^\\w\\s]', '', text) # Removing punctuations in string using regex\n",
    "    text = text.strip()\n",
    "    return text\n"
   ]
  },
  {
   "attachments": {},
   "cell_type": "markdown",
   "metadata": {},
   "source": [
    "### Preprocessing \n",
    "Preprocess the arabic input text by performing normalization, stemming, and removing stop words."
   ]
  },
  {
   "cell_type": "code",
   "execution_count": 7,
   "metadata": {},
   "outputs": [],
   "source": [
    "\n",
    "# arabic stemmer\n",
    "ar_stemmer = stemmer(\"arabic\")\n",
    "\n",
    "# remove arabic stop words\n",
    "def ar_remove_stop_words(sentence):\n",
    "    terms=[]\n",
    "    stopWords= set(ar_stp.stopwords_list())\n",
    "    for term in sentence.split() : \n",
    "        if term not in stopWords :\n",
    "            terms.append(term)\n",
    "    return \" \".join(terms)\n",
    "\n",
    "\n",
    "# normalize the arabic text\n",
    "def normalize_arabic(text):\n",
    "    text = re.sub(\"[إأٱآا]\", \"ا\", text)\n",
    "    text = re.sub(\"ى\", \"ي\", text)\n",
    "    text = re.sub(\"ؤ\", \"ء\", text)\n",
    "    text = re.sub(\"ئ\", \"ء\", text)\n",
    "    text = re.sub(\"ة\", \"ه\", text)\n",
    "    return(text)\n",
    "\n",
    "# stem the arabic text\n",
    "def ar_stem(sentence):\n",
    "    return \" \".join([ar_stemmer.stemWord(i) for i in sentence.split()])\n",
    "\n",
    "\n",
    "# apply all preprocessing steps needed for Arabic text\n",
    "def preprocess_arabic(text): \n",
    "    text = normalize_arabic(text)\n",
    "    text = ar_remove_stop_words(text)\n",
    "    text = ar_stem(text)\n",
    "    return text\n",
    "\n",
    "\n",
    "def prepare_query_for_search(query_path, query_column=TEXT,\n",
    "                        id_column=DOC_NO):\n",
    "\n",
    "        names = [DOC_NO, TEXT]\n",
    "        print(\"Cleaning queries and applying preprocessing steps\")\n",
    "        df_query = read_file(query_path, names=names)\n",
    "        # apply the cleaning functions on the queries/questions\n",
    "        df_query[QUERY] =df_query[query_column].apply(clean)\n",
    "\n",
    "        # apply normalization, stemming and stop word removal             \n",
    "        print(\"Applying normalization, stemming and stop word removal\")\n",
    "        df_query[QUERY] =df_query[QUERY].apply(preprocess_arabic)\n",
    "\n",
    "        df_query[QID] = df_query[id_column].astype(str) # convert the id column to string\n",
    "        df_query = df_query[[QID, QUERY]] # keep the columns needed for search\n",
    "        print(\"Done with preparation!\")\n",
    "        return df_query\n",
    "    "
   ]
  },
  {
   "attachments": {},
   "cell_type": "markdown",
   "metadata": {},
   "source": [
    "## Search\n",
    "Search in the index and find the relevant passages."
   ]
  },
  {
   "cell_type": "code",
   "execution_count": 9,
   "metadata": {},
   "outputs": [
    {
     "name": "stdout",
     "output_type": "stream",
     "text": [
      "Cleaning queries and applying preprocessing steps\n",
      "Applying normalization, stemming and stop word removal\n",
      "Done with preparation!\n"
     ]
    },
    {
     "data": {
      "text/html": [
       "<div>\n",
       "<style scoped>\n",
       "    .dataframe tbody tr th:only-of-type {\n",
       "        vertical-align: middle;\n",
       "    }\n",
       "\n",
       "    .dataframe tbody tr th {\n",
       "        vertical-align: top;\n",
       "    }\n",
       "\n",
       "    .dataframe thead th {\n",
       "        text-align: right;\n",
       "    }\n",
       "</style>\n",
       "<table border=\"1\" class=\"dataframe\">\n",
       "  <thead>\n",
       "    <tr style=\"text-align: right;\">\n",
       "      <th></th>\n",
       "      <th>question-id</th>\n",
       "      <th>Q0</th>\n",
       "      <th>passage-id</th>\n",
       "      <th>rank</th>\n",
       "      <th>score</th>\n",
       "      <th>tag</th>\n",
       "    </tr>\n",
       "  </thead>\n",
       "  <tbody>\n",
       "    <tr>\n",
       "      <th>0</th>\n",
       "      <td>114</td>\n",
       "      <td>Q0</td>\n",
       "      <td>29:38-40</td>\n",
       "      <td>0</td>\n",
       "      <td>11.484285</td>\n",
       "      <td>BM25</td>\n",
       "    </tr>\n",
       "    <tr>\n",
       "      <th>1</th>\n",
       "      <td>114</td>\n",
       "      <td>Q0</td>\n",
       "      <td>28:81-84</td>\n",
       "      <td>1</td>\n",
       "      <td>10.095525</td>\n",
       "      <td>BM25</td>\n",
       "    </tr>\n",
       "    <tr>\n",
       "      <th>2</th>\n",
       "      <td>114</td>\n",
       "      <td>Q0</td>\n",
       "      <td>75:1-15</td>\n",
       "      <td>2</td>\n",
       "      <td>7.969817</td>\n",
       "      <td>BM25</td>\n",
       "    </tr>\n",
       "    <tr>\n",
       "      <th>3</th>\n",
       "      <td>114</td>\n",
       "      <td>Q0</td>\n",
       "      <td>34:1-2</td>\n",
       "      <td>3</td>\n",
       "      <td>3.429409</td>\n",
       "      <td>BM25</td>\n",
       "    </tr>\n",
       "    <tr>\n",
       "      <th>4</th>\n",
       "      <td>114</td>\n",
       "      <td>Q0</td>\n",
       "      <td>28:1-6</td>\n",
       "      <td>4</td>\n",
       "      <td>3.274326</td>\n",
       "      <td>BM25</td>\n",
       "    </tr>\n",
       "    <tr>\n",
       "      <th>...</th>\n",
       "      <td>...</td>\n",
       "      <td>...</td>\n",
       "      <td>...</td>\n",
       "      <td>...</td>\n",
       "      <td>...</td>\n",
       "      <td>...</td>\n",
       "    </tr>\n",
       "    <tr>\n",
       "      <th>116</th>\n",
       "      <td>428</td>\n",
       "      <td>Q0</td>\n",
       "      <td>17:88-89</td>\n",
       "      <td>0</td>\n",
       "      <td>12.692842</td>\n",
       "      <td>BM25</td>\n",
       "    </tr>\n",
       "    <tr>\n",
       "      <th>117</th>\n",
       "      <td>428</td>\n",
       "      <td>Q0</td>\n",
       "      <td>17:9-11</td>\n",
       "      <td>1</td>\n",
       "      <td>11.947024</td>\n",
       "      <td>BM25</td>\n",
       "    </tr>\n",
       "    <tr>\n",
       "      <th>118</th>\n",
       "      <td>428</td>\n",
       "      <td>Q0</td>\n",
       "      <td>2:170-171</td>\n",
       "      <td>2</td>\n",
       "      <td>10.099939</td>\n",
       "      <td>BM25</td>\n",
       "    </tr>\n",
       "    <tr>\n",
       "      <th>119</th>\n",
       "      <td>428</td>\n",
       "      <td>Q0</td>\n",
       "      <td>29:41-43</td>\n",
       "      <td>3</td>\n",
       "      <td>9.653199</td>\n",
       "      <td>BM25</td>\n",
       "    </tr>\n",
       "    <tr>\n",
       "      <th>120</th>\n",
       "      <td>428</td>\n",
       "      <td>Q0</td>\n",
       "      <td>10:11-14</td>\n",
       "      <td>4</td>\n",
       "      <td>9.322958</td>\n",
       "      <td>BM25</td>\n",
       "    </tr>\n",
       "  </tbody>\n",
       "</table>\n",
       "<p>121 rows × 6 columns</p>\n",
       "</div>"
      ],
      "text/plain": [
       "    question-id  Q0 passage-id  rank      score   tag\n",
       "0           114  Q0   29:38-40     0  11.484285  BM25\n",
       "1           114  Q0   28:81-84     1  10.095525  BM25\n",
       "2           114  Q0    75:1-15     2   7.969817  BM25\n",
       "3           114  Q0     34:1-2     3   3.429409  BM25\n",
       "4           114  Q0     28:1-6     4   3.274326  BM25\n",
       "..          ...  ..        ...   ...        ...   ...\n",
       "116         428  Q0   17:88-89     0  12.692842  BM25\n",
       "117         428  Q0    17:9-11     1  11.947024  BM25\n",
       "118         428  Q0  2:170-171     2  10.099939  BM25\n",
       "119         428  Q0   29:41-43     3   9.653199  BM25\n",
       "120         428  Q0   10:11-14     4   9.322958  BM25\n",
       "\n",
       "[121 rows x 6 columns]"
      ]
     },
     "execution_count": 9,
     "metadata": {},
     "output_type": "execute_result"
    }
   ],
   "source": [
    "query_path = os.path.join(data_path, \"QQA23_TaskA_dev.tsv\")\n",
    "run_save_path = os.path.join(data_path, \"runs/bigIR_BM25.tsv\")\n",
    "\n",
    "# 1. initialize the BM25 retrieval model\n",
    "BM25_model = pt.BatchRetrieve(index, controls = {\"wmodel\": \"BM25\"}, num_results=5)\n",
    "\n",
    "# 2. read the query file and prepare it for search to match pyterrier format\n",
    "df_query = prepare_query_for_search(query_path)\n",
    "\n",
    "# 3. search using BM25 model\n",
    "df_run = BM25_model.transform(df_query)\n",
    "\n",
    "# 4. save the run in trec format to a file\n",
    "df_run[\"Q0\"] = [\"Q0\"] * len(df_run)\n",
    "df_run[\"tag\"] = [\"BM25\"] * len(df_run)\n",
    "df_run['question-id'] = df_run[\"qid\"]\n",
    "df_run['passage-id'] = df_run[\"docno\"]\n",
    "df_run = df_run[[\"question-id\", \"Q0\", \"passage-id\", \"rank\", \"score\", \"tag\"]]\n",
    "df_run.to_csv(run_save_path, sep=\"\\t\", index=False, header=False)\n",
    "df_run"
   ]
  },
  {
   "attachments": {},
   "cell_type": "markdown",
   "metadata": {},
   "source": [
    "## Evaluation"
   ]
  },
  {
   "cell_type": "code",
   "execution_count": 11,
   "metadata": {},
   "outputs": [
    {
     "name": "stdout",
     "output_type": "stream",
     "text": [
      "Format check: Passed\n",
      "     map  recip_rank\n",
      "0.170291    0.313333\n"
     ]
    }
   ],
   "source": [
    "! python QQA23_TaskA_eval.py \\\n",
    "    -r \"path_to_your_data_directory/data/runs/bigIR_BM25.tsv\" \\\n",
    "    -q \"path_to_your_data_directory/data/qrels/QQA23_TaskA_qrels_dev.gold\""
   ]
  },
  {
   "attachments": {},
   "cell_type": "markdown",
   "metadata": {},
   "source": [
    "Here, we are just evaluating the perfect run for the dev set"
   ]
  },
  {
   "cell_type": "code",
   "execution_count": 19,
   "metadata": {},
   "outputs": [
    {
     "name": "stdout",
     "output_type": "stream",
     "text": [
      "Format check: Passed\n",
      " map  recip_rank\n",
      " 1.0         1.0\n"
     ]
    }
   ],
   "source": [
    "! python QQA23_TaskA_eval.py \\\n",
    "    -r \"./data/runs/dev_perfect.tsv\" \\\n",
    "    -q \"./data/qrels/QQA23_TaskA_qrels_dev.gold\""
   ]
  }
 ],
 "metadata": {
  "kernelspec": {
   "display_name": "tweetEnv",
   "language": "python",
   "name": "python3"
  },
  "language_info": {
   "codemirror_mode": {
    "name": "ipython",
    "version": 3
   },
   "file_extension": ".py",
   "mimetype": "text/x-python",
   "name": "python",
   "nbconvert_exporter": "python",
   "pygments_lexer": "ipython3",
   "version": "3.8.5"
  },
  "orig_nbformat": 4
 },
 "nbformat": 4,
 "nbformat_minor": 2
}
