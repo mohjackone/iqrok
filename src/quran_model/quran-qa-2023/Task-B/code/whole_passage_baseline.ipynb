{
 "cells": [
  {
   "cell_type": "code",
   "execution_count": 1,
   "metadata": {},
   "outputs": [],
   "source": [
    "import json\n",
    "\n",
    "dev_set_file = \"path_to_dev_set/QQA23_TaskB_qrcd_v1.2_dev_preprocessed.jsonl\"\n"
   ]
  },
  {
   "cell_type": "code",
   "execution_count": 2,
   "metadata": {},
   "outputs": [],
   "source": [
    "def load_jsonl(input_path) -> list:\n",
    "    data = []\n",
    "    with open(input_path, 'r', encoding='utf-8') as f:\n",
    "        for line in f:\n",
    "            data.append(json.loads(line.rstrip('\\n|\\r')))\n",
    "    print('Loaded {} records from {}'.format(len(data), input_path))\n",
    "    return data\n",
    "\n",
    "\n",
    "def get_last_token_index(text):\n",
    "    tokens = text.split()  # Split the string into tokens\n",
    "    if tokens:\n",
    "        last_token_index = len(tokens) - 1 # Get the last token index\n",
    "        return last_token_index\n",
    "    else:\n",
    "        return -1  # Return -1 if the string has no tokens\n",
    "\n",
    "\n",
    "def to_dict(answer, rank, score, start_token_indx, end_token_indx):\n",
    "    return {\n",
    "        # \"pq_id\": pq_id,\n",
    "        \"answer\": answer,\n",
    "        \"strt_token_indx\":start_token_indx,\n",
    "        \"end_token_indx\":end_token_indx,\n",
    "        \"rank\":rank,\n",
    "        \"score\":score,\n",
    "        }\n",
    "\n",
    "\n",
    "def form_one_answer(passage):\n",
    "    answers_list = []\n",
    "    answers_list.append(to_dict(answer=passage, rank=1, score=1, start_token_indx=0, end_token_indx=get_last_token_index(passage)))\n",
    "    return answers_list\n"
   ]
  },
  {
   "attachments": {},
   "cell_type": "markdown",
   "metadata": {},
   "source": [
    "### Whole passage baseline"
   ]
  },
  {
   "cell_type": "code",
   "execution_count": 3,
   "metadata": {},
   "outputs": [
    {
     "name": "stdout",
     "output_type": "stream",
     "text": [
      "Loaded 163 records from /data/watheq/Quran_QA/evalution_script/Task-B/data/QQA23_TaskB_qrcd_v1.2_dev_preprocessed.jsonl\n"
     ]
    }
   ],
   "source": [
    "dataset_jsonl  = load_jsonl(dev_set_file)"
   ]
  },
  {
   "cell_type": "code",
   "execution_count": 4,
   "metadata": {},
   "outputs": [
    {
     "name": "stdout",
     "output_type": "stream",
     "text": [
      "Json file was saved into this path:  ./runs/whole_passage.json\n"
     ]
    }
   ],
   "source": [
    "all_questions = {}\n",
    "for pq_dict in dataset_jsonl:\n",
    "    pq_id = pq_dict['pq_id']\n",
    "    passage = pq_dict['passage']\n",
    "    answers_list = form_one_answer(passage)\n",
    "    all_questions.update({pq_id: answers_list})\n",
    "\n",
    "save_path = \"./runs/whole_passage.json\"\n",
    "with open(save_path, \"w\", encoding=\"utf-8\") as outfile:\n",
    "    json.dump(all_questions, outfile, ensure_ascii=False) \n",
    "    print(\"Json file was saved into this path: \",save_path )\n"
   ]
  },
  {
   "attachments": {},
   "cell_type": "markdown",
   "metadata": {},
   "source": [
    "### Evaluate the baseline"
   ]
  },
  {
   "cell_type": "code",
   "execution_count": null,
   "metadata": {},
   "outputs": [],
   "source": [
    "! python QQA23_TaskB_eval.py \\\n",
    "    --run_file \"path_to_your_data_directory/whole_passage.json\" \\\n",
    "    --gold_answers_file \"path_to_your_data_directory/QQA23_TaskB_qrcd_v1.2_dev_preprocessed.jsonl\"\n",
    "\n",
    "# expected output:\n",
    "# Loaded 163 records from ../QQA23_TaskB_qrcd_v1.2_dev_preprocessed.jsonl\n",
    "# pAP@10 = 0.25484 \n"
   ]
  }
 ],
 "metadata": {
  "interpreter": {
   "hash": "b9889cefe40c55d576844f1d6183148761d17be597acfcdddc3fa949f430f6d7"
  },
  "kernelspec": {
   "display_name": "Python 3.7.9 ('venv': venv)",
   "language": "python",
   "name": "python3"
  },
  "language_info": {
   "codemirror_mode": {
    "name": "ipython",
    "version": 3
   },
   "file_extension": ".py",
   "mimetype": "text/x-python",
   "name": "python",
   "nbconvert_exporter": "python",
   "pygments_lexer": "ipython3",
   "version": "3.8.5"
  },
  "orig_nbformat": 4
 },
 "nbformat": 4,
 "nbformat_minor": 2
}
